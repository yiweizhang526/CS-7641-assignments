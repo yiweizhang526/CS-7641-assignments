{
 "cells": [
  {
   "cell_type": "code",
   "execution_count": null,
   "metadata": {},
   "outputs": [],
   "source": [
    "import gym\n",
    "import hiive.mdptoolbox\n",
    "import hiive.mdptoolbox.mdp\n",
    "import hiive.mdptoolbox.example\n",
    "\n",
    "from gym.envs.toy_text.frozen_lake import generate_random_map\n",
    "import hiive_openAI_extract\n",
    "\n",
    "# import hiive.mdptoolbox as mdptoolbox\n",
    "from hiive.mdptoolbox.mdp import ValueIteration, PolicyIteration, PolicyIterationModified, QLearning\n",
    "\n",
    "import numpy as np\n",
    "import pandas as pd\n",
    "import matplotlib.pyplot as plt\n",
    "import seaborn as sns\n",
    "import time"
   ]
  },
  {
   "cell_type": "code",
   "execution_count": null,
   "metadata": {},
   "outputs": [],
   "source": [
    "# Test the training time\n",
    "T, R = hiive.mdptoolbox.example.forest(S=625)\n",
    "\n",
    "start = time.time()\n",
    "vi_small = ValueIteration(T, R, 0.95, epsilon=0.01)\n",
    "test1 = vi_small.run()\n",
    "end = time.time()\n",
    "print(end-start)\n",
    "\n",
    "start = time.time()\n",
    "pi_small = PolicyIterationModified(T, R, 0.95, epsilon=0.01)\n",
    "test2 = pi_small.run()\n",
    "end = time.time()\n",
    "print(end-start)\n",
    "\n",
    "start = time.time()\n",
    "q_small = QLearning(T, R, gamma=0.95, alpha=0.9, alpha_decay=0.999, epsilon_decay=0.999, n_iter=100000)\n",
    "test3 = q_small.run()\n",
    "end = time.time()\n",
    "print(end-start)\n",
    "\n",
    "print(vi_small.iter,pi_small.iter, test3[-1][\"Iteration\"])\n",
    "print(vi_small.time,pi_small.time, test3[-1][\"Time\"])\n",
    "print(np.mean(vi_small.V),np.mean(pi_small.V), test3[-1][\"Mean V\"])"
   ]
  },
  {
   "cell_type": "code",
   "execution_count": null,
   "metadata": {},
   "outputs": [],
   "source": []
  }
 ],
 "metadata": {
  "kernelspec": {
   "display_name": "Python 3",
   "language": "python",
   "name": "python3"
  },
  "language_info": {
   "codemirror_mode": {
    "name": "ipython",
    "version": 3
   },
   "file_extension": ".py",
   "mimetype": "text/x-python",
   "name": "python",
   "nbconvert_exporter": "python",
   "pygments_lexer": "ipython3",
   "version": "3.8.5"
  }
 },
 "nbformat": 4,
 "nbformat_minor": 4
}
