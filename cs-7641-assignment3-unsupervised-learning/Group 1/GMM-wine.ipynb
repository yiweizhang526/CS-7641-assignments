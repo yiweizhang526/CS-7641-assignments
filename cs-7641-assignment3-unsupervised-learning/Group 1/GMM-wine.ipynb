{
 "cells": [
  {
   "cell_type": "code",
   "execution_count": null,
   "metadata": {},
   "outputs": [],
   "source": [
    "import matplotlib.pyplot as plt\n",
    "import seaborn as sns\n",
    "import numpy as np\n",
    "import pandas as pd\n",
    "import time\n",
    "\n",
    "from sklearn.model_selection import train_test_split\n",
    "from sklearn.preprocessing import MinMaxScaler\n",
    "from sklearn.metrics import silhouette_score, homogeneity_score, completeness_score\n",
    "from sklearn.mixture import GaussianMixture"
   ]
  },
  {
   "cell_type": "code",
   "execution_count": null,
   "metadata": {},
   "outputs": [],
   "source": [
    "SEED = 166\n",
    "\n",
    "# preprocessing: scaling the data and split dataset\n",
    "data = pd.read_csv(\"../winequality.csv\")\n",
    "predictors = data[data.columns.difference([\"label\"])]\n",
    "scaler = MinMaxScaler()\n",
    "predictors_scaled = scaler.fit_transform(predictors)\n",
    "target = data[[\"label\"]].values.ravel()\n",
    "\n",
    "train_X, test_X, train_y, test_y = train_test_split(predictors_scaled, target, train_size=0.8, random_state=SEED, stratify=target)\n",
    "\n",
    "# in clustering experiments, only use training set\n",
    "data, label = train_X, train_y"
   ]
  },
  {
   "cell_type": "code",
   "execution_count": null,
   "metadata": {},
   "outputs": [],
   "source": [
    "# Choosing the optimal k with two metrics - one is BIC, another is Silhouette Coefficient\n",
    "k_grid = np.arange(1, 11)\n",
    "loss1 = np.zeros(k_grid.size)\n",
    "loss2 = np.zeros(k_grid.size)\n",
    "for idx, k in enumerate(k_grid):\n",
    "    print (\"k = \", k)\n",
    "    GMM = GaussianMixture(n_components=k, random_state=SEED)\n",
    "    pred = GMM.fit_predict(data)\n",
    "    loss1[idx] = GMM.bic(data)\n",
    "    if k > 1:\n",
    "        loss2[idx] = silhouette_score(data, pred)"
   ]
  },
  {
   "cell_type": "code",
   "execution_count": null,
   "metadata": {},
   "outputs": [],
   "source": [
    "# Plot loss vs k to find best k\n",
    "plt.figure(figsize=(8,4))\n",
    "plt.plot(k_grid, loss1, '-o')\n",
    "plt.xticks(k_grid)\n",
    "plt.xlabel('k')\n",
    "plt.ylabel('BIC')\n",
    "plt.title('Select K for wine dataset: Bayesian Information Criterion')\n",
    "plt.grid()\n",
    "plt.savefig('../plots/gmm_wine_loss_1.png', dpi=300)\n",
    "plt.show()\n",
    "\n",
    "plt.figure(figsize=(8,4))\n",
    "plt.plot(k_grid[1:], loss2[1:], '-o')\n",
    "plt.xticks(k_grid)\n",
    "plt.xlabel('k')\n",
    "plt.ylabel('Silhouette Coefficient')\n",
    "plt.title('Select K for wine dataset: Silhouette Coefficient')\n",
    "plt.grid()\n",
    "plt.savefig('../plots/gmm_wine_loss_2.png', dpi=300)\n",
    "plt.show()"
   ]
  },
  {
   "cell_type": "code",
   "execution_count": null,
   "metadata": {},
   "outputs": [],
   "source": [
    "GMM = GaussianMixture(n_components=3, random_state=SEED)\n",
    "pred = GMM.fit_predict(data)\n",
    "# Visualize the clustering effect\n",
    "correlation = []\n",
    "shape = data.shape\n",
    "for i in range(shape[1]):\n",
    "    c = np.corrcoef(data[:, i], pred)\n",
    "    correlation.append(c[0, 1])\n",
    "print(correlation)"
   ]
  },
  {
   "cell_type": "code",
   "execution_count": null,
   "metadata": {},
   "outputs": [],
   "source": [
    "from mpl_toolkits.mplot3d import Axes3D\n",
    "import matplotlib.pyplot as plt\n",
    "\n",
    "fig = plt.figure(1)\n",
    "ax = Axes3D(fig, rect=[0, 0, 0.95, 1], elev=48, azim=134)\n",
    "\n",
    "ax.scatter(data[pred==0, 0], data[pred==0, 7], data[pred==0,3], c='blue', edgecolor=\"k\", label=(\"cluster 1 - wine\"))\n",
    "ax.scatter(data[pred==1, 0], data[pred==1, 7], data[pred==1,3], c='red', edgecolor=\"k\", label=(\"cluster 2 - wine\"))\n",
    "ax.scatter(data[pred==2, 0], data[pred==2, 7], data[pred==2,3], c='yellow', edgecolor=\"k\", label=(\"cluster 3 - wine\"))\n",
    "ax.set_xlabel(\"fixed acidity\")\n",
    "ax.set_ylabel(\"density\")\n",
    "ax.set_zlabel(\"residual sugar\")\n",
    "ax.legend(loc='best')\n",
    "fig.savefig('../plots/gmm_wine_cluster.png', dpi=300)\n",
    "fig.show()"
   ]
  },
  {
   "cell_type": "code",
   "execution_count": null,
   "metadata": {},
   "outputs": [],
   "source": [
    "print(label)\n",
    "print(pred)\n",
    "print(completeness_score(label, pred), homogeneity_score(label, pred))\n",
    "print(silhouette_score(data, pred))"
   ]
  }
 ],
 "metadata": {
  "kernelspec": {
   "display_name": "Python 3",
   "language": "python",
   "name": "python3"
  },
  "language_info": {
   "codemirror_mode": {
    "name": "ipython",
    "version": 3
   },
   "file_extension": ".py",
   "mimetype": "text/x-python",
   "name": "python",
   "nbconvert_exporter": "python",
   "pygments_lexer": "ipython3",
   "version": "3.8.5"
  }
 },
 "nbformat": 4,
 "nbformat_minor": 4
}
